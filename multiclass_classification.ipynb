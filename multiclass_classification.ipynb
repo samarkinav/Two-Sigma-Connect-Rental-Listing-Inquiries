{
  "nbformat": 4,
  "nbformat_minor": 0,
  "metadata": {
    "colab": {
      "name": "multiclass classification.ipynb",
      "provenance": [],
      "collapsed_sections": [],
      "authorship_tag": "ABX9TyPqevoqNr7dgtmvDRC9PMmr",
      "include_colab_link": true
    },
    "kernelspec": {
      "name": "python3",
      "display_name": "Python 3"
    },
    "language_info": {
      "name": "python"
    }
  },
  "cells": [
    {
      "cell_type": "markdown",
      "metadata": {
        "id": "view-in-github",
        "colab_type": "text"
      },
      "source": [
        "<a href=\"https://colab.research.google.com/github/samarkinav/Two-Sigma-Connect-Rental-Listing-Inquiries/blob/main/multiclass_classification.ipynb\" target=\"_parent\"><img src=\"https://colab.research.google.com/assets/colab-badge.svg\" alt=\"Open In Colab\"/></a>"
      ]
    },
    {
      "cell_type": "markdown",
      "source": [
        "# Импорт библиотек"
      ],
      "metadata": {
        "id": "uNlfzoeW3EWN"
      }
    },
    {
      "cell_type": "code",
      "source": [
        "import pandas as pd\n",
        "import numpy as np\n",
        "\n",
        "import datetime\n",
        "from sklearn.preprocessing import LabelEncoder\n",
        "\n",
        "import matplotlib.pyplot as plt\n",
        "import seaborn as sns\n",
        "\n",
        "import lightgbm as lgb\n",
        "from sklearn.model_selection import GridSearchCV\n",
        "from sklearn.metrics import log_loss\n",
        "from sklearn.model_selection import train_test_split\n",
        "\n",
        "%matplotlib inline"
      ],
      "metadata": {
        "id": "LVfxsphy3G4k"
      },
      "execution_count": null,
      "outputs": []
    },
    {
      "cell_type": "markdown",
      "source": [
        "# Чтение данных"
      ],
      "metadata": {
        "id": "UM0rAdeT3KVQ"
      }
    },
    {
      "cell_type": "code",
      "source": [
        "train_df = pd.read_json('train.json')\n",
        "test_df = pd.read_json('test.json')\n",
        "\n",
        "print('train size:', train_df.shape)\n",
        "print('test size:', test_df.shape)"
      ],
      "metadata": {
        "colab": {
          "base_uri": "https://localhost:8080/"
        },
        "id": "McIKxhvL3Jtn",
        "outputId": "b103a43e-89c7-4a1d-c1b9-6d0c8937dada"
      },
      "execution_count": null,
      "outputs": [
        {
          "output_type": "stream",
          "name": "stdout",
          "text": [
            "train size: (49352, 15)\n",
            "test size: (74659, 14)\n"
          ]
        }
      ]
    },
    {
      "cell_type": "code",
      "source": [
        "train_df.head(3)"
      ],
      "metadata": {
        "colab": {
          "base_uri": "https://localhost:8080/",
          "height": 450
        },
        "id": "YHhTIztGqr5Q",
        "outputId": "21cf28bb-6f7c-4b35-ac70-227e14e8f317"
      },
      "execution_count": null,
      "outputs": [
        {
          "output_type": "execute_result",
          "data": {
            "text/html": [
              "\n",
              "  <div id=\"df-36af90a0-07ab-4030-8277-6251276542c1\">\n",
              "    <div class=\"colab-df-container\">\n",
              "      <div>\n",
              "<style scoped>\n",
              "    .dataframe tbody tr th:only-of-type {\n",
              "        vertical-align: middle;\n",
              "    }\n",
              "\n",
              "    .dataframe tbody tr th {\n",
              "        vertical-align: top;\n",
              "    }\n",
              "\n",
              "    .dataframe thead th {\n",
              "        text-align: right;\n",
              "    }\n",
              "</style>\n",
              "<table border=\"1\" class=\"dataframe\">\n",
              "  <thead>\n",
              "    <tr style=\"text-align: right;\">\n",
              "      <th></th>\n",
              "      <th>bathrooms</th>\n",
              "      <th>bedrooms</th>\n",
              "      <th>building_id</th>\n",
              "      <th>created</th>\n",
              "      <th>description</th>\n",
              "      <th>display_address</th>\n",
              "      <th>features</th>\n",
              "      <th>latitude</th>\n",
              "      <th>listing_id</th>\n",
              "      <th>longitude</th>\n",
              "      <th>manager_id</th>\n",
              "      <th>photos</th>\n",
              "      <th>price</th>\n",
              "      <th>street_address</th>\n",
              "      <th>interest_level</th>\n",
              "    </tr>\n",
              "  </thead>\n",
              "  <tbody>\n",
              "    <tr>\n",
              "      <th>4</th>\n",
              "      <td>1.0</td>\n",
              "      <td>1</td>\n",
              "      <td>8579a0b0d54db803821a35a4a615e97a</td>\n",
              "      <td>2016-06-16 05:55:27</td>\n",
              "      <td>Spacious 1 Bedroom 1 Bathroom in Williamsburg!...</td>\n",
              "      <td>145 Borinquen Place</td>\n",
              "      <td>[Dining Room, Pre-War, Laundry in Building, Di...</td>\n",
              "      <td>40.7108</td>\n",
              "      <td>7170325</td>\n",
              "      <td>-73.9539</td>\n",
              "      <td>a10db4590843d78c784171a107bdacb4</td>\n",
              "      <td>[https://photos.renthop.com/2/7170325_3bb5ac84...</td>\n",
              "      <td>2400</td>\n",
              "      <td>145 Borinquen Place</td>\n",
              "      <td>medium</td>\n",
              "    </tr>\n",
              "    <tr>\n",
              "      <th>6</th>\n",
              "      <td>1.0</td>\n",
              "      <td>2</td>\n",
              "      <td>b8e75fc949a6cd8225b455648a951712</td>\n",
              "      <td>2016-06-01 05:44:33</td>\n",
              "      <td>BRAND NEW GUT RENOVATED TRUE 2 BEDROOMFind you...</td>\n",
              "      <td>East 44th</td>\n",
              "      <td>[Doorman, Elevator, Laundry in Building, Dishw...</td>\n",
              "      <td>40.7513</td>\n",
              "      <td>7092344</td>\n",
              "      <td>-73.9722</td>\n",
              "      <td>955db33477af4f40004820b4aed804a0</td>\n",
              "      <td>[https://photos.renthop.com/2/7092344_7663c19a...</td>\n",
              "      <td>3800</td>\n",
              "      <td>230 East 44th</td>\n",
              "      <td>low</td>\n",
              "    </tr>\n",
              "    <tr>\n",
              "      <th>9</th>\n",
              "      <td>1.0</td>\n",
              "      <td>2</td>\n",
              "      <td>cd759a988b8f23924b5a2058d5ab2b49</td>\n",
              "      <td>2016-06-14 15:19:59</td>\n",
              "      <td>**FLEX 2 BEDROOM WITH FULL PRESSURIZED WALL**L...</td>\n",
              "      <td>East 56th Street</td>\n",
              "      <td>[Doorman, Elevator, Laundry in Building, Laund...</td>\n",
              "      <td>40.7575</td>\n",
              "      <td>7158677</td>\n",
              "      <td>-73.9625</td>\n",
              "      <td>c8b10a317b766204f08e613cef4ce7a0</td>\n",
              "      <td>[https://photos.renthop.com/2/7158677_c897a134...</td>\n",
              "      <td>3495</td>\n",
              "      <td>405 East 56th Street</td>\n",
              "      <td>medium</td>\n",
              "    </tr>\n",
              "  </tbody>\n",
              "</table>\n",
              "</div>\n",
              "      <button class=\"colab-df-convert\" onclick=\"convertToInteractive('df-36af90a0-07ab-4030-8277-6251276542c1')\"\n",
              "              title=\"Convert this dataframe to an interactive table.\"\n",
              "              style=\"display:none;\">\n",
              "        \n",
              "  <svg xmlns=\"http://www.w3.org/2000/svg\" height=\"24px\"viewBox=\"0 0 24 24\"\n",
              "       width=\"24px\">\n",
              "    <path d=\"M0 0h24v24H0V0z\" fill=\"none\"/>\n",
              "    <path d=\"M18.56 5.44l.94 2.06.94-2.06 2.06-.94-2.06-.94-.94-2.06-.94 2.06-2.06.94zm-11 1L8.5 8.5l.94-2.06 2.06-.94-2.06-.94L8.5 2.5l-.94 2.06-2.06.94zm10 10l.94 2.06.94-2.06 2.06-.94-2.06-.94-.94-2.06-.94 2.06-2.06.94z\"/><path d=\"M17.41 7.96l-1.37-1.37c-.4-.4-.92-.59-1.43-.59-.52 0-1.04.2-1.43.59L10.3 9.45l-7.72 7.72c-.78.78-.78 2.05 0 2.83L4 21.41c.39.39.9.59 1.41.59.51 0 1.02-.2 1.41-.59l7.78-7.78 2.81-2.81c.8-.78.8-2.07 0-2.86zM5.41 20L4 18.59l7.72-7.72 1.47 1.35L5.41 20z\"/>\n",
              "  </svg>\n",
              "      </button>\n",
              "      \n",
              "  <style>\n",
              "    .colab-df-container {\n",
              "      display:flex;\n",
              "      flex-wrap:wrap;\n",
              "      gap: 12px;\n",
              "    }\n",
              "\n",
              "    .colab-df-convert {\n",
              "      background-color: #E8F0FE;\n",
              "      border: none;\n",
              "      border-radius: 50%;\n",
              "      cursor: pointer;\n",
              "      display: none;\n",
              "      fill: #1967D2;\n",
              "      height: 32px;\n",
              "      padding: 0 0 0 0;\n",
              "      width: 32px;\n",
              "    }\n",
              "\n",
              "    .colab-df-convert:hover {\n",
              "      background-color: #E2EBFA;\n",
              "      box-shadow: 0px 1px 2px rgba(60, 64, 67, 0.3), 0px 1px 3px 1px rgba(60, 64, 67, 0.15);\n",
              "      fill: #174EA6;\n",
              "    }\n",
              "\n",
              "    [theme=dark] .colab-df-convert {\n",
              "      background-color: #3B4455;\n",
              "      fill: #D2E3FC;\n",
              "    }\n",
              "\n",
              "    [theme=dark] .colab-df-convert:hover {\n",
              "      background-color: #434B5C;\n",
              "      box-shadow: 0px 1px 3px 1px rgba(0, 0, 0, 0.15);\n",
              "      filter: drop-shadow(0px 1px 2px rgba(0, 0, 0, 0.3));\n",
              "      fill: #FFFFFF;\n",
              "    }\n",
              "  </style>\n",
              "\n",
              "      <script>\n",
              "        const buttonEl =\n",
              "          document.querySelector('#df-36af90a0-07ab-4030-8277-6251276542c1 button.colab-df-convert');\n",
              "        buttonEl.style.display =\n",
              "          google.colab.kernel.accessAllowed ? 'block' : 'none';\n",
              "\n",
              "        async function convertToInteractive(key) {\n",
              "          const element = document.querySelector('#df-36af90a0-07ab-4030-8277-6251276542c1');\n",
              "          const dataTable =\n",
              "            await google.colab.kernel.invokeFunction('convertToInteractive',\n",
              "                                                     [key], {});\n",
              "          if (!dataTable) return;\n",
              "\n",
              "          const docLinkHtml = 'Like what you see? Visit the ' +\n",
              "            '<a target=\"_blank\" href=https://colab.research.google.com/notebooks/data_table.ipynb>data table notebook</a>'\n",
              "            + ' to learn more about interactive tables.';\n",
              "          element.innerHTML = '';\n",
              "          dataTable['output_type'] = 'display_data';\n",
              "          await google.colab.output.renderOutput(dataTable, element);\n",
              "          const docLink = document.createElement('div');\n",
              "          docLink.innerHTML = docLinkHtml;\n",
              "          element.appendChild(docLink);\n",
              "        }\n",
              "      </script>\n",
              "    </div>\n",
              "  </div>\n",
              "  "
            ],
            "text/plain": [
              "   bathrooms  bedrooms  ...        street_address interest_level\n",
              "4        1.0         1  ...   145 Borinquen Place         medium\n",
              "6        1.0         2  ...         230 East 44th            low\n",
              "9        1.0         2  ...  405 East 56th Street         medium\n",
              "\n",
              "[3 rows x 15 columns]"
            ]
          },
          "metadata": {},
          "execution_count": 265
        }
      ]
    },
    {
      "cell_type": "code",
      "source": [
        "train_df.info()"
      ],
      "metadata": {
        "colab": {
          "base_uri": "https://localhost:8080/"
        },
        "id": "nK_FU8mm3apr",
        "outputId": "e760e8d1-5b1d-44ea-e3c6-a3ade14c5958"
      },
      "execution_count": null,
      "outputs": [
        {
          "output_type": "stream",
          "name": "stdout",
          "text": [
            "<class 'pandas.core.frame.DataFrame'>\n",
            "Int64Index: 49352 entries, 4 to 124009\n",
            "Data columns (total 15 columns):\n",
            " #   Column           Non-Null Count  Dtype  \n",
            "---  ------           --------------  -----  \n",
            " 0   bathrooms        49352 non-null  float64\n",
            " 1   bedrooms         49352 non-null  int64  \n",
            " 2   building_id      49352 non-null  object \n",
            " 3   created          49352 non-null  object \n",
            " 4   description      49352 non-null  object \n",
            " 5   display_address  49352 non-null  object \n",
            " 6   features         49352 non-null  object \n",
            " 7   latitude         49352 non-null  float64\n",
            " 8   listing_id       49352 non-null  int64  \n",
            " 9   longitude        49352 non-null  float64\n",
            " 10  manager_id       49352 non-null  object \n",
            " 11  photos           49352 non-null  object \n",
            " 12  price            49352 non-null  int64  \n",
            " 13  street_address   49352 non-null  object \n",
            " 14  interest_level   49352 non-null  object \n",
            "dtypes: float64(3), int64(3), object(9)\n",
            "memory usage: 6.0+ MB\n"
          ]
        }
      ]
    },
    {
      "cell_type": "markdown",
      "source": [
        "# Предобработка данных"
      ],
      "metadata": {
        "id": "BZKEz-fR3iAv"
      }
    },
    {
      "cell_type": "code",
      "source": [
        "train_df.interest_level.value_counts()"
      ],
      "metadata": {
        "colab": {
          "base_uri": "https://localhost:8080/"
        },
        "id": "20fOHuoRplB6",
        "outputId": "cbdb09bf-11db-4111-9058-df4c2f5d8ede"
      },
      "execution_count": null,
      "outputs": [
        {
          "output_type": "execute_result",
          "data": {
            "text/plain": [
              "low       34284\n",
              "medium    11229\n",
              "high       3839\n",
              "Name: interest_level, dtype: int64"
            ]
          },
          "metadata": {},
          "execution_count": 267
        }
      ]
    },
    {
      "cell_type": "code",
      "source": [
        "sns.countplot(x='interest_level', data=train_df, palette='hls')\n",
        "plt.show()\n",
        "plt.savefig('interest_level')"
      ],
      "metadata": {
        "colab": {
          "base_uri": "https://localhost:8080/",
          "height": 297
        },
        "id": "8CXvghdDpmcW",
        "outputId": "40d35dd9-266b-42fe-ccb4-74c451d13c8a"
      },
      "execution_count": null,
      "outputs": [
        {
          "output_type": "display_data",
          "data": {
            "image/png": "[encoded data removed]",
            "text/plain": [
              "<Figure size 432x288 with 1 Axes>"
            ]
          },
          "metadata": {
            "needs_background": "light"
          }
        },
        {
          "output_type": "display_data",
          "data": {
            "text/plain": [
              "<Figure size 432x288 with 0 Axes>"
            ]
          },
          "metadata": {}
        }
      ]
    },
    {
      "cell_type": "markdown",
      "source": [
        "Не будем трогать несбалансированность классов, поскольку для нас важна вероятностная классификация."
      ],
      "metadata": {
        "id": "SQC_QP0qqDGb"
      }
    },
    {
      "cell_type": "code",
      "source": [
        "labelencoder = LabelEncoder()\n",
        "train_df['interest_level'] = labelencoder.fit_transform(train_df['interest_level'])\n",
        "train_df['interest_level'] = train_df['interest_level'].astype('int')"
      ],
      "metadata": {
        "id": "gWbeLx9Hqnin"
      },
      "execution_count": null,
      "outputs": []
    },
    {
      "cell_type": "code",
      "source": [
        "train_df = train_df.reset_index(drop=True)\n",
        "test_df = test_df.reset_index(drop=True)"
      ],
      "metadata": {
        "id": "VLRjn2rpqoAF"
      },
      "execution_count": null,
      "outputs": []
    },
    {
      "cell_type": "code",
      "source": [
        "features_for_model = []"
      ],
      "metadata": {
        "id": "R3jkgHeoB__k"
      },
      "execution_count": null,
      "outputs": []
    },
    {
      "cell_type": "markdown",
      "source": [
        "### 1.   bathrooms и bedrooms \n",
        "\n"
      ],
      "metadata": {
        "id": "bxfKvm6OV6W-"
      }
    },
    {
      "cell_type": "code",
      "source": [
        "train_df.bathrooms.hist()"
      ],
      "metadata": {
        "colab": {
          "base_uri": "https://localhost:8080/",
          "height": 282
        },
        "id": "OaZZIuVXa-eO",
        "outputId": "2ca8690f-8417-419e-a87c-23a950dd5113"
      },
      "execution_count": null,
      "outputs": [
        {
          "output_type": "execute_result",
          "data": {
            "text/plain": [
              "<matplotlib.axes._subplots.AxesSubplot at 0x7f669237d1d0>"
            ]
          },
          "metadata": {},
          "execution_count": 272
        },
        {
          "output_type": "display_data",
          "data": {
            "image/png": "[encoded data removed]",
            "text/plain": [
              "<Figure size 432x288 with 1 Axes>"
            ]
          },
          "metadata": {
            "needs_background": "light"
          }
        }
      ]
    },
    {
      "cell_type": "code",
      "source": [
        "train_df.bedrooms.hist()"
      ],
      "metadata": {
        "colab": {
          "base_uri": "https://localhost:8080/",
          "height": 282
        },
        "id": "Oc1hijB0daCk",
        "outputId": "66c23654-97b2-470b-a8ba-04d65a04a8ce"
      },
      "execution_count": null,
      "outputs": [
        {
          "output_type": "execute_result",
          "data": {
            "text/plain": [
              "<matplotlib.axes._subplots.AxesSubplot at 0x7f66923176d0>"
            ]
          },
          "metadata": {},
          "execution_count": 273
        },
        {
          "output_type": "display_data",
          "data": {
            "image/png": "[encoded data removed]",
            "text/plain": [
              "<Figure size 432x288 with 1 Axes>"
            ]
          },
          "metadata": {
            "needs_background": "light"
          }
        }
      ]
    },
    {
      "cell_type": "code",
      "source": [
        "features_for_model.extend(['bathrooms', 'bedrooms'])"
      ],
      "metadata": {
        "id": "-8pEXxWACD3K"
      },
      "execution_count": null,
      "outputs": []
    },
    {
      "cell_type": "markdown",
      "source": [
        "### 3. building_id"
      ],
      "metadata": {
        "id": "ixcniq3qeOji"
      }
    },
    {
      "cell_type": "code",
      "source": [
        "train_df.building_id.value_counts()"
      ],
      "metadata": {
        "colab": {
          "base_uri": "https://localhost:8080/"
        },
        "id": "pUvzfJ4TeTMG",
        "outputId": "62cdfb7e-2052-4cc1-c35a-7ab1f651acb9"
      },
      "execution_count": null,
      "outputs": [
        {
          "output_type": "execute_result",
          "data": {
            "text/plain": [
              "0                                   8286\n",
              "96274288c84ddd7d5c5d8e425ee75027     275\n",
              "11e1dec9d14b1a9e528386a2504b3afc     215\n",
              "80a120d6bc3aba97f40fee8c2204524b     213\n",
              "bb8658a3e432fb62a440615333376345     212\n",
              "                                    ... \n",
              "c6d33d7d6889754340fe231b6bf54ec6       1\n",
              "8a462db57b6fe7d691fbcd03a24439d1       1\n",
              "14f63c74768914be6f3707e21ac66a19       1\n",
              "eafbe31e82540901753bc5b18dd6be6d       1\n",
              "77000e9b7ef896c9b3d9f8e1c4302621       1\n",
              "Name: building_id, Length: 7585, dtype: int64"
            ]
          },
          "metadata": {},
          "execution_count": 275
        }
      ]
    },
    {
      "cell_type": "markdown",
      "source": [
        "Видим, что во многих объявлениях вообще пропущен этот признак. "
      ],
      "metadata": {
        "id": "cWqmdFQ2fMCI"
      }
    },
    {
      "cell_type": "code",
      "source": [
        "train_df.building_id.nunique()"
      ],
      "metadata": {
        "colab": {
          "base_uri": "https://localhost:8080/"
        },
        "id": "UuZCvJydeiHD",
        "outputId": "14b427ec-59b5-459d-de85-17a0d42ea73b"
      },
      "execution_count": null,
      "outputs": [
        {
          "output_type": "execute_result",
          "data": {
            "text/plain": [
              "7585"
            ]
          },
          "metadata": {},
          "execution_count": 276
        }
      ]
    },
    {
      "cell_type": "markdown",
      "source": [
        "Очень много уникальных значений, не будем использовать этот признак в нашей модели."
      ],
      "metadata": {
        "id": "T_88eKZfe-Ge"
      }
    },
    {
      "cell_type": "markdown",
      "source": [
        "### 4. created "
      ],
      "metadata": {
        "id": "ariooRR53s7M"
      }
    },
    {
      "cell_type": "code",
      "source": [
        "train_df['created'] = pd.to_datetime(train_df['created'])\n",
        "test_df['created'] = pd.to_datetime(test_df['created'])"
      ],
      "metadata": {
        "id": "qcQLE57S3gEN"
      },
      "execution_count": null,
      "outputs": []
    },
    {
      "cell_type": "markdown",
      "source": [
        "На популярность объявления может влиять дата опубликования, конкретнее - может влиять день недели, праздник это или нет. "
      ],
      "metadata": {
        "id": "txk1XX6537xH"
      }
    },
    {
      "cell_type": "code",
      "source": [
        "print(min(train_df['created']), max(train_df['created']))"
      ],
      "metadata": {
        "colab": {
          "base_uri": "https://localhost:8080/"
        },
        "id": "fk4hYFnu3629",
        "outputId": "3c25cc44-a3c6-4e05-90be-6884c721da44"
      },
      "execution_count": null,
      "outputs": [
        {
          "output_type": "stream",
          "name": "stdout",
          "text": [
            "2016-04-01 22:12:41 2016-06-29 21:41:47\n"
          ]
        }
      ]
    },
    {
      "cell_type": "markdown",
      "source": [
        "Имеем данные за почти 3 месяца. Выделим новые фичи из даты:"
      ],
      "metadata": {
        "id": "msun_6Hd4bsq"
      }
    },
    {
      "cell_type": "code",
      "source": [
        "# день недели\n",
        "\n",
        "train_df['weekday'] = train_df['created'].dt.weekday\n",
        "test_df['weekday'] = test_df['created'].dt.weekday"
      ],
      "metadata": {
        "id": "ZOOsYN4L4bTl"
      },
      "execution_count": null,
      "outputs": []
    },
    {
      "cell_type": "code",
      "source": [
        "# отдельно выделим выходные + добавим праздники (так как данные всего лишь за 3 месяца, то я вручную нашла, \n",
        "# что за этот период был только один государственный праздник - 30 мая)\n",
        "\n",
        "train_df['day_off'] = np.where(train_df['weekday'] > 4, 1, 0)\n",
        "test_df['day_off'] = np.where(test_df['weekday'] > 4, 1, 0)\n",
        "train_df['date'] = train_df['created'].dt.date\n",
        "test_df['date'] = test_df['created'].dt.date\n",
        "train_df['day_off'][train_df['date'] == datetime.date(2016, 5, 30)] = 1\n",
        "test_df['day_off'][test_df['date'] == datetime.date(2016, 5, 30)] = 1"
      ],
      "metadata": {
        "colab": {
          "base_uri": "https://localhost:8080/"
        },
        "id": "ZFIXWa1O5t35",
        "outputId": "3a63a366-b070-4b27-cad1-0d7767e5d254"
      },
      "execution_count": null,
      "outputs": [
        {
          "output_type": "stream",
          "name": "stderr",
          "text": [
            "/usr/local/lib/python3.7/dist-packages/ipykernel_launcher.py:8: SettingWithCopyWarning: \n",
            "A value is trying to be set on a copy of a slice from a DataFrame\n",
            "\n",
            "See the caveats in the documentation: https://pandas.pydata.org/pandas-docs/stable/user_guide/indexing.html#returning-a-view-versus-a-copy\n",
            "  \n",
            "/usr/local/lib/python3.7/dist-packages/ipykernel_launcher.py:9: SettingWithCopyWarning: \n",
            "A value is trying to be set on a copy of a slice from a DataFrame\n",
            "\n",
            "See the caveats in the documentation: https://pandas.pydata.org/pandas-docs/stable/user_guide/indexing.html#returning-a-view-versus-a-copy\n",
            "  if __name__ == '__main__':\n"
          ]
        }
      ]
    },
    {
      "cell_type": "code",
      "source": [
        "features_for_model.append('weekday')\n",
        "features_for_model.append('day_off')"
      ],
      "metadata": {
        "id": "DyJ_9E-CfWIG"
      },
      "execution_count": null,
      "outputs": []
    },
    {
      "cell_type": "markdown",
      "source": [
        "### 5. description"
      ],
      "metadata": {
        "id": "meX-V59Y87hL"
      }
    },
    {
      "cell_type": "code",
      "source": [
        "train_df.description.head(5)"
      ],
      "metadata": {
        "colab": {
          "base_uri": "https://localhost:8080/"
        },
        "id": "xcOqscCAfl4u",
        "outputId": "d659692e-5081-4971-a42d-f7eff7c1d17a"
      },
      "execution_count": null,
      "outputs": [
        {
          "output_type": "execute_result",
          "data": {
            "text/plain": [
              "0    Spacious 1 Bedroom 1 Bathroom in Williamsburg!...\n",
              "1    BRAND NEW GUT RENOVATED TRUE 2 BEDROOMFind you...\n",
              "2    **FLEX 2 BEDROOM WITH FULL PRESSURIZED WALL**L...\n",
              "3    A Brand New 3 Bedroom 1.5 bath ApartmentEnjoy ...\n",
              "4    Over-sized Studio w abundant closets. Availabl...\n",
              "Name: description, dtype: object"
            ]
          },
          "metadata": {},
          "execution_count": 282
        }
      ]
    },
    {
      "cell_type": "markdown",
      "source": [
        "В описании много разнообразной информации. Единственное, что может быть нам интересно - длина описания, потому что чем больше информации предоставил арендодатель - тем больше может быть интерес у клиента."
      ],
      "metadata": {
        "id": "1a3T3oeC9B8E"
      }
    },
    {
      "cell_type": "code",
      "source": [
        "def condition(x):\n",
        "  return '<' not in x and '>' not in x\n",
        "train_df['description_len'] = train_df.description.apply(lambda x:sum(condition(i) for i in x.split(' ')))\n",
        "test_df['description_len'] = test_df.description.apply(lambda x:sum(condition(i) for i in x.split(' ')))"
      ],
      "metadata": {
        "id": "N07_NjtO-Nqz"
      },
      "execution_count": null,
      "outputs": []
    },
    {
      "cell_type": "code",
      "source": [
        "features_for_model.append('description_len')"
      ],
      "metadata": {
        "id": "0JagojUTDQG1"
      },
      "execution_count": null,
      "outputs": []
    },
    {
      "cell_type": "markdown",
      "source": [
        "### 6. display_address и street_address"
      ],
      "metadata": {
        "id": "svuelQ_Tf6mE"
      }
    },
    {
      "cell_type": "code",
      "source": [
        "train_df[['display_address', 'street_address']].head()"
      ],
      "metadata": {
        "colab": {
          "base_uri": "https://localhost:8080/",
          "height": 206
        },
        "id": "UrSWdqa8gAmp",
        "outputId": "baec0fb6-aa6c-4f6a-8152-64f58db6c695"
      },
      "execution_count": null,
      "outputs": [
        {
          "output_type": "execute_result",
          "data": {
            "text/html": [
              "\n",
              "  <div id=\"df-af378147-cfa4-4fc0-b0ba-c7d4bd0f12ab\">\n",
              "    <div class=\"colab-df-container\">\n",
              "      <div>\n",
              "<style scoped>\n",
              "    .dataframe tbody tr th:only-of-type {\n",
              "        vertical-align: middle;\n",
              "    }\n",
              "\n",
              "    .dataframe tbody tr th {\n",
              "        vertical-align: top;\n",
              "    }\n",
              "\n",
              "    .dataframe thead th {\n",
              "        text-align: right;\n",
              "    }\n",
              "</style>\n",
              "<table border=\"1\" class=\"dataframe\">\n",
              "  <thead>\n",
              "    <tr style=\"text-align: right;\">\n",
              "      <th></th>\n",
              "      <th>display_address</th>\n",
              "      <th>street_address</th>\n",
              "    </tr>\n",
              "  </thead>\n",
              "  <tbody>\n",
              "    <tr>\n",
              "      <th>0</th>\n",
              "      <td>145 Borinquen Place</td>\n",
              "      <td>145 Borinquen Place</td>\n",
              "    </tr>\n",
              "    <tr>\n",
              "      <th>1</th>\n",
              "      <td>East 44th</td>\n",
              "      <td>230 East 44th</td>\n",
              "    </tr>\n",
              "    <tr>\n",
              "      <th>2</th>\n",
              "      <td>East 56th Street</td>\n",
              "      <td>405 East 56th Street</td>\n",
              "    </tr>\n",
              "    <tr>\n",
              "      <th>3</th>\n",
              "      <td>Metropolitan Avenue</td>\n",
              "      <td>792 Metropolitan Avenue</td>\n",
              "    </tr>\n",
              "    <tr>\n",
              "      <th>4</th>\n",
              "      <td>East 34th Street</td>\n",
              "      <td>340 East 34th Street</td>\n",
              "    </tr>\n",
              "  </tbody>\n",
              "</table>\n",
              "</div>\n",
              "      <button class=\"colab-df-convert\" onclick=\"convertToInteractive('df-af378147-cfa4-4fc0-b0ba-c7d4bd0f12ab')\"\n",
              "              title=\"Convert this dataframe to an interactive table.\"\n",
              "              style=\"display:none;\">\n",
              "        \n",
              "  <svg xmlns=\"http://www.w3.org/2000/svg\" height=\"24px\"viewBox=\"0 0 24 24\"\n",
              "       width=\"24px\">\n",
              "    <path d=\"M0 0h24v24H0V0z\" fill=\"none\"/>\n",
              "    <path d=\"M18.56 5.44l.94 2.06.94-2.06 2.06-.94-2.06-.94-.94-2.06-.94 2.06-2.06.94zm-11 1L8.5 8.5l.94-2.06 2.06-.94-2.06-.94L8.5 2.5l-.94 2.06-2.06.94zm10 10l.94 2.06.94-2.06 2.06-.94-2.06-.94-.94-2.06-.94 2.06-2.06.94z\"/><path d=\"M17.41 7.96l-1.37-1.37c-.4-.4-.92-.59-1.43-.59-.52 0-1.04.2-1.43.59L10.3 9.45l-7.72 7.72c-.78.78-.78 2.05 0 2.83L4 21.41c.39.39.9.59 1.41.59.51 0 1.02-.2 1.41-.59l7.78-7.78 2.81-2.81c.8-.78.8-2.07 0-2.86zM5.41 20L4 18.59l7.72-7.72 1.47 1.35L5.41 20z\"/>\n",
              "  </svg>\n",
              "      </button>\n",
              "      \n",
              "  <style>\n",
              "    .colab-df-container {\n",
              "      display:flex;\n",
              "      flex-wrap:wrap;\n",
              "      gap: 12px;\n",
              "    }\n",
              "\n",
              "    .colab-df-convert {\n",
              "      background-color: #E8F0FE;\n",
              "      border: none;\n",
              "      border-radius: 50%;\n",
              "      cursor: pointer;\n",
              "      display: none;\n",
              "      fill: #1967D2;\n",
              "      height: 32px;\n",
              "      padding: 0 0 0 0;\n",
              "      width: 32px;\n",
              "    }\n",
              "\n",
              "    .colab-df-convert:hover {\n",
              "      background-color: #E2EBFA;\n",
              "      box-shadow: 0px 1px 2px rgba(60, 64, 67, 0.3), 0px 1px 3px 1px rgba(60, 64, 67, 0.15);\n",
              "      fill: #174EA6;\n",
              "    }\n",
              "\n",
              "    [theme=dark] .colab-df-convert {\n",
              "      background-color: #3B4455;\n",
              "      fill: #D2E3FC;\n",
              "    }\n",
              "\n",
              "    [theme=dark] .colab-df-convert:hover {\n",
              "      background-color: #434B5C;\n",
              "      box-shadow: 0px 1px 3px 1px rgba(0, 0, 0, 0.15);\n",
              "      filter: drop-shadow(0px 1px 2px rgba(0, 0, 0, 0.3));\n",
              "      fill: #FFFFFF;\n",
              "    }\n",
              "  </style>\n",
              "\n",
              "      <script>\n",
              "        const buttonEl =\n",
              "          document.querySelector('#df-af378147-cfa4-4fc0-b0ba-c7d4bd0f12ab button.colab-df-convert');\n",
              "        buttonEl.style.display =\n",
              "          google.colab.kernel.accessAllowed ? 'block' : 'none';\n",
              "\n",
              "        async function convertToInteractive(key) {\n",
              "          const element = document.querySelector('#df-af378147-cfa4-4fc0-b0ba-c7d4bd0f12ab');\n",
              "          const dataTable =\n",
              "            await google.colab.kernel.invokeFunction('convertToInteractive',\n",
              "                                                     [key], {});\n",
              "          if (!dataTable) return;\n",
              "\n",
              "          const docLinkHtml = 'Like what you see? Visit the ' +\n",
              "            '<a target=\"_blank\" href=https://colab.research.google.com/notebooks/data_table.ipynb>data table notebook</a>'\n",
              "            + ' to learn more about interactive tables.';\n",
              "          element.innerHTML = '';\n",
              "          dataTable['output_type'] = 'display_data';\n",
              "          await google.colab.output.renderOutput(dataTable, element);\n",
              "          const docLink = document.createElement('div');\n",
              "          docLink.innerHTML = docLinkHtml;\n",
              "          element.appendChild(docLink);\n",
              "        }\n",
              "      </script>\n",
              "    </div>\n",
              "  </div>\n",
              "  "
            ],
            "text/plain": [
              "       display_address           street_address\n",
              "0  145 Borinquen Place      145 Borinquen Place\n",
              "1            East 44th            230 East 44th\n",
              "2     East 56th Street     405 East 56th Street\n",
              "3  Metropolitan Avenue  792 Metropolitan Avenue\n",
              "4     East 34th Street     340 East 34th Street"
            ]
          },
          "metadata": {},
          "execution_count": 285
        }
      ]
    },
    {
      "cell_type": "markdown",
      "source": [
        "Чем отличаются эти два признака? Видимо, во втором к улице добавляется номер дома, хотя в случае с самым первым объявлением - номера дома нет ни в первом столбце, ни во втором. Несут ли эти признаки какую-то информацию? Вряд ли. Не будем использовать их для построения модели."
      ],
      "metadata": {
        "id": "X2spXc3ZgIyh"
      }
    },
    {
      "cell_type": "code",
      "source": [
        "train_df.display_address.nunique()"
      ],
      "metadata": {
        "colab": {
          "base_uri": "https://localhost:8080/"
        },
        "id": "-ilamcdLgsEg",
        "outputId": "8dd433da-2e54-4565-82f5-288dc59c0554"
      },
      "execution_count": null,
      "outputs": [
        {
          "output_type": "execute_result",
          "data": {
            "text/plain": [
              "8826"
            ]
          },
          "metadata": {},
          "execution_count": 286
        }
      ]
    },
    {
      "cell_type": "markdown",
      "source": [
        "### 7. features"
      ],
      "metadata": {
        "id": "DkZVCZiL-aHK"
      }
    },
    {
      "cell_type": "code",
      "source": [
        "train_df.features.head(5)"
      ],
      "metadata": {
        "colab": {
          "base_uri": "https://localhost:8080/"
        },
        "id": "aL5hVnlFMloK",
        "outputId": "176d3b2f-ed66-4f9a-9bd3-df60e42858b4"
      },
      "execution_count": null,
      "outputs": [
        {
          "output_type": "execute_result",
          "data": {
            "text/plain": [
              "0    [Dining Room, Pre-War, Laundry in Building, Di...\n",
              "1    [Doorman, Elevator, Laundry in Building, Dishw...\n",
              "2    [Doorman, Elevator, Laundry in Building, Laund...\n",
              "3                                                   []\n",
              "4    [Doorman, Elevator, Fitness Center, Laundry in...\n",
              "Name: features, dtype: object"
            ]
          },
          "metadata": {},
          "execution_count": 287
        }
      ]
    },
    {
      "cell_type": "markdown",
      "source": [
        "Этот признак так же закодируем его длиной."
      ],
      "metadata": {
        "id": "a_xkDL5BhwVv"
      }
    },
    {
      "cell_type": "code",
      "source": [
        "train_df['features_len'] = train_df['features'].apply(len)\n",
        "test_df['features_len'] = test_df['features'].apply(len)"
      ],
      "metadata": {
        "id": "CcbC6eHLJ5EB"
      },
      "execution_count": null,
      "outputs": []
    },
    {
      "cell_type": "code",
      "source": [
        "features_for_model.append('features_len')"
      ],
      "metadata": {
        "id": "2fRG3qTiDt3g"
      },
      "execution_count": null,
      "outputs": []
    },
    {
      "cell_type": "markdown",
      "source": [
        "### 8. latitude и longitude"
      ],
      "metadata": {
        "id": "lhpDg6sNjFFO"
      }
    },
    {
      "cell_type": "code",
      "source": [
        "np.random.seed(42)\n",
        "random_subset = np.random.choice(np.arange(train_df.shape[0]), size=1000, replace=False)\n",
        "plt.scatter(train_df.iloc[random_subset]['longitude'], train_df.iloc[random_subset]['latitude'], alpha=0.3)\n",
        "plt.xlabel('longitude')\n",
        "plt.ylabel('latitude')\n",
        "pass"
      ],
      "metadata": {
        "colab": {
          "base_uri": "https://localhost:8080/",
          "height": 283
        },
        "id": "clUXk8yXlMtX",
        "outputId": "6a0b5c0b-4f78-4c75-eb55-17f119f1f36a"
      },
      "execution_count": null,
      "outputs": [
        {
          "output_type": "display_data",
          "data": {
            "image/png": "[encoded data removed]",
            "text/plain": [
              "<Figure size 432x288 with 1 Axes>"
            ]
          },
          "metadata": {
            "needs_background": "light"
          }
        }
      ]
    },
    {
      "cell_type": "code",
      "source": [
        "import math\n",
        "\n",
        "train_df['x'] = train_df['latitude'].apply(math.cos) * train_df['longitude'].apply(math.cos)\n",
        "train_df['y'] = train_df['latitude'].apply(math.cos) * train_df['longitude'].apply(math.sin)\n",
        "train_df['z'] = train_df['latitude'].apply(math.sin) \n",
        "\n",
        "test_df['x'] = test_df['latitude'].apply(math.cos) * test_df['longitude'].apply(math.cos)\n",
        "test_df['y'] = test_df['latitude'].apply(math.cos) * test_df['longitude'].apply(math.sin)\n",
        "test_df['z'] = test_df['latitude'].apply(math.sin) "
      ],
      "metadata": {
        "id": "kY0JCPrzjSnR"
      },
      "execution_count": null,
      "outputs": []
    },
    {
      "cell_type": "code",
      "source": [
        "features_for_model.extend(['x', 'y', 'z'])"
      ],
      "metadata": {
        "id": "ORkphJWoGGyM"
      },
      "execution_count": null,
      "outputs": []
    },
    {
      "cell_type": "markdown",
      "source": [
        "### 9. manager_id"
      ],
      "metadata": {
        "id": "Tq_Io950kM2W"
      }
    },
    {
      "cell_type": "code",
      "source": [
        "train_df.manager_id.value_counts()"
      ],
      "metadata": {
        "colab": {
          "base_uri": "https://localhost:8080/"
        },
        "id": "McZwgwkmlFXU",
        "outputId": "8483effe-f89f-4954-9a09-61119aad6e95"
      },
      "execution_count": null,
      "outputs": [
        {
          "output_type": "execute_result",
          "data": {
            "text/plain": [
              "e6472c7237327dd3903b3d6f6a94515a    2533\n",
              "6e5c10246156ae5bdcd9b487ca99d96a     711\n",
              "8f5a9c893f6d602f4953fcc0b8e6e9b4     410\n",
              "62b685cc0d876c3a1a51d63a0d6a8082     402\n",
              "cb87dadbca78fad02b388dc9e8f25a5b     373\n",
              "                                    ... \n",
              "d9f695c57000c4fdf2250269899ce4a3       1\n",
              "3260c0c23dc8571dfe655d6a572edebe       1\n",
              "55dd8427f5672d4f853c23ee843fd5c8       1\n",
              "df8b1e3a0bc63c1fbe4a2ffc766500e9       1\n",
              "f388cf2be5cc5a752b19722cf75b5305       1\n",
              "Name: manager_id, Length: 3481, dtype: int64"
            ]
          },
          "metadata": {},
          "execution_count": 293
        }
      ]
    },
    {
      "cell_type": "markdown",
      "source": [
        "Попробуем создать словарь менеджер - сумма очков за интерес к его объявлениям. "
      ],
      "metadata": {
        "id": "B5UTorczEIR8"
      }
    },
    {
      "cell_type": "code",
      "source": [
        "manager_score = train_df.groupby('manager_id').aggregate({'interest_level':'sum'})\\\n",
        "                                              .rename(columns = {'interest_level':'manager_score'})\n",
        "manager_score.head()"
      ],
      "metadata": {
        "colab": {
          "base_uri": "https://localhost:8080/",
          "height": 238
        },
        "id": "53ydsj5igquI",
        "outputId": "9f8f5666-d71c-41ba-c0a5-c4c76fa5ca31"
      },
      "execution_count": null,
      "outputs": [
        {
          "output_type": "execute_result",
          "data": {
            "text/html": [
              "\n",
              "  <div id=\"df-90bfa80e-7e14-4abf-a64a-498e6cd7cb06\">\n",
              "    <div class=\"colab-df-container\">\n",
              "      <div>\n",
              "<style scoped>\n",
              "    .dataframe tbody tr th:only-of-type {\n",
              "        vertical-align: middle;\n",
              "    }\n",
              "\n",
              "    .dataframe tbody tr th {\n",
              "        vertical-align: top;\n",
              "    }\n",
              "\n",
              "    .dataframe thead th {\n",
              "        text-align: right;\n",
              "    }\n",
              "</style>\n",
              "<table border=\"1\" class=\"dataframe\">\n",
              "  <thead>\n",
              "    <tr style=\"text-align: right;\">\n",
              "      <th></th>\n",
              "      <th>manager_score</th>\n",
              "    </tr>\n",
              "    <tr>\n",
              "      <th>manager_id</th>\n",
              "      <th></th>\n",
              "    </tr>\n",
              "  </thead>\n",
              "  <tbody>\n",
              "    <tr>\n",
              "      <th>0000abd7518b94c35a90d64b56fbf3e6</th>\n",
              "      <td>20</td>\n",
              "    </tr>\n",
              "    <tr>\n",
              "      <th>001ce808ce1720e24a9510e014c69707</th>\n",
              "      <td>10</td>\n",
              "    </tr>\n",
              "    <tr>\n",
              "      <th>003fc4e9a70053082f131b1054966aaf</th>\n",
              "      <td>1</td>\n",
              "    </tr>\n",
              "    <tr>\n",
              "      <th>00607a02f6efd9c6c7c588826e471ee9</th>\n",
              "      <td>4</td>\n",
              "    </tr>\n",
              "    <tr>\n",
              "      <th>00995ff28d79127ed2dca8320e9e7d09</th>\n",
              "      <td>4</td>\n",
              "    </tr>\n",
              "  </tbody>\n",
              "</table>\n",
              "</div>\n",
              "      <button class=\"colab-df-convert\" onclick=\"convertToInteractive('df-90bfa80e-7e14-4abf-a64a-498e6cd7cb06')\"\n",
              "              title=\"Convert this dataframe to an interactive table.\"\n",
              "              style=\"display:none;\">\n",
              "        \n",
              "  <svg xmlns=\"http://www.w3.org/2000/svg\" height=\"24px\"viewBox=\"0 0 24 24\"\n",
              "       width=\"24px\">\n",
              "    <path d=\"M0 0h24v24H0V0z\" fill=\"none\"/>\n",
              "    <path d=\"M18.56 5.44l.94 2.06.94-2.06 2.06-.94-2.06-.94-.94-2.06-.94 2.06-2.06.94zm-11 1L8.5 8.5l.94-2.06 2.06-.94-2.06-.94L8.5 2.5l-.94 2.06-2.06.94zm10 10l.94 2.06.94-2.06 2.06-.94-2.06-.94-.94-2.06-.94 2.06-2.06.94z\"/><path d=\"M17.41 7.96l-1.37-1.37c-.4-.4-.92-.59-1.43-.59-.52 0-1.04.2-1.43.59L10.3 9.45l-7.72 7.72c-.78.78-.78 2.05 0 2.83L4 21.41c.39.39.9.59 1.41.59.51 0 1.02-.2 1.41-.59l7.78-7.78 2.81-2.81c.8-.78.8-2.07 0-2.86zM5.41 20L4 18.59l7.72-7.72 1.47 1.35L5.41 20z\"/>\n",
              "  </svg>\n",
              "      </button>\n",
              "      \n",
              "  <style>\n",
              "    .colab-df-container {\n",
              "      display:flex;\n",
              "      flex-wrap:wrap;\n",
              "      gap: 12px;\n",
              "    }\n",
              "\n",
              "    .colab-df-convert {\n",
              "      background-color: #E8F0FE;\n",
              "      border: none;\n",
              "      border-radius: 50%;\n",
              "      cursor: pointer;\n",
              "      display: none;\n",
              "      fill: #1967D2;\n",
              "      height: 32px;\n",
              "      padding: 0 0 0 0;\n",
              "      width: 32px;\n",
              "    }\n",
              "\n",
              "    .colab-df-convert:hover {\n",
              "      background-color: #E2EBFA;\n",
              "      box-shadow: 0px 1px 2px rgba(60, 64, 67, 0.3), 0px 1px 3px 1px rgba(60, 64, 67, 0.15);\n",
              "      fill: #174EA6;\n",
              "    }\n",
              "\n",
              "    [theme=dark] .colab-df-convert {\n",
              "      background-color: #3B4455;\n",
              "      fill: #D2E3FC;\n",
              "    }\n",
              "\n",
              "    [theme=dark] .colab-df-convert:hover {\n",
              "      background-color: #434B5C;\n",
              "      box-shadow: 0px 1px 3px 1px rgba(0, 0, 0, 0.15);\n",
              "      filter: drop-shadow(0px 1px 2px rgba(0, 0, 0, 0.3));\n",
              "      fill: #FFFFFF;\n",
              "    }\n",
              "  </style>\n",
              "\n",
              "      <script>\n",
              "        const buttonEl =\n",
              "          document.querySelector('#df-90bfa80e-7e14-4abf-a64a-498e6cd7cb06 button.colab-df-convert');\n",
              "        buttonEl.style.display =\n",
              "          google.colab.kernel.accessAllowed ? 'block' : 'none';\n",
              "\n",
              "        async function convertToInteractive(key) {\n",
              "          const element = document.querySelector('#df-90bfa80e-7e14-4abf-a64a-498e6cd7cb06');\n",
              "          const dataTable =\n",
              "            await google.colab.kernel.invokeFunction('convertToInteractive',\n",
              "                                                     [key], {});\n",
              "          if (!dataTable) return;\n",
              "\n",
              "          const docLinkHtml = 'Like what you see? Visit the ' +\n",
              "            '<a target=\"_blank\" href=https://colab.research.google.com/notebooks/data_table.ipynb>data table notebook</a>'\n",
              "            + ' to learn more about interactive tables.';\n",
              "          element.innerHTML = '';\n",
              "          dataTable['output_type'] = 'display_data';\n",
              "          await google.colab.output.renderOutput(dataTable, element);\n",
              "          const docLink = document.createElement('div');\n",
              "          docLink.innerHTML = docLinkHtml;\n",
              "          element.appendChild(docLink);\n",
              "        }\n",
              "      </script>\n",
              "    </div>\n",
              "  </div>\n",
              "  "
            ],
            "text/plain": [
              "                                  manager_score\n",
              "manager_id                                     \n",
              "0000abd7518b94c35a90d64b56fbf3e6             20\n",
              "001ce808ce1720e24a9510e014c69707             10\n",
              "003fc4e9a70053082f131b1054966aaf              1\n",
              "00607a02f6efd9c6c7c588826e471ee9              4\n",
              "00995ff28d79127ed2dca8320e9e7d09              4"
            ]
          },
          "metadata": {},
          "execution_count": 294
        }
      ]
    },
    {
      "cell_type": "code",
      "source": [
        "train_df = train_df.merge(manager_score, how='left', left_on='manager_id', right_on='manager_id')\n",
        "test_df = test_df.merge(manager_score, how='left', left_on='manager_id', right_on='manager_id')"
      ],
      "metadata": {
        "id": "xLtWpTyvhX4B"
      },
      "execution_count": null,
      "outputs": []
    },
    {
      "cell_type": "code",
      "source": [
        "test_df.manager_score.isna().sum()"
      ],
      "metadata": {
        "colab": {
          "base_uri": "https://localhost:8080/"
        },
        "id": "s2Men_YcFTUC",
        "outputId": "8a99d8d9-3342-4a09-b0c2-98f92399f293"
      },
      "execution_count": null,
      "outputs": [
        {
          "output_type": "execute_result",
          "data": {
            "text/plain": [
              "1474"
            ]
          },
          "metadata": {},
          "execution_count": 296
        }
      ]
    },
    {
      "cell_type": "markdown",
      "source": [
        "Для каких-то менеджеров в тестовой выборке не нашлось соотвествия из нашего словаря. Заполним для них эти значения медианами."
      ],
      "metadata": {
        "id": "7BkQm3x-FdnN"
      }
    },
    {
      "cell_type": "code",
      "source": [
        "test_df.manager_score.fillna(test_df.manager_score.median(axis = 0), axis=0 , inplace=True)"
      ],
      "metadata": {
        "id": "vVXg6-DOFzp0"
      },
      "execution_count": null,
      "outputs": []
    },
    {
      "cell_type": "code",
      "source": [
        "features_for_model.append('manager_score')"
      ],
      "metadata": {
        "id": "pi21cVKQGbyg"
      },
      "execution_count": null,
      "outputs": []
    },
    {
      "cell_type": "markdown",
      "source": [
        "### 10. photos"
      ],
      "metadata": {
        "id": "RdSx27cj-hen"
      }
    },
    {
      "cell_type": "markdown",
      "source": [
        "Вытащим в отдельный признак кол-во фото, прилагаемых к объявлению."
      ],
      "metadata": {
        "id": "UZvSXEcl-kyC"
      }
    },
    {
      "cell_type": "code",
      "source": [
        "train_df['photos_count'] = train_df.photos.apply(len)\n",
        "test_df['photos_count'] = test_df.photos.apply(len)"
      ],
      "metadata": {
        "id": "CctxJG88-wZH"
      },
      "execution_count": null,
      "outputs": []
    },
    {
      "cell_type": "code",
      "source": [
        "features_for_model.append('photos_count')"
      ],
      "metadata": {
        "id": "gyvYU8YrGfH6"
      },
      "execution_count": null,
      "outputs": []
    },
    {
      "cell_type": "markdown",
      "source": [
        "### 11.price"
      ],
      "metadata": {
        "id": "BHnfBpZ7lLv1"
      }
    },
    {
      "cell_type": "code",
      "source": [
        "train_df.price.hist(bins=100, range=(0,20000))"
      ],
      "metadata": {
        "colab": {
          "base_uri": "https://localhost:8080/",
          "height": 282
        },
        "id": "t0DuGOil7-Ou",
        "outputId": "34f6da6d-10b4-44a7-e66d-0a70d067ffee"
      },
      "execution_count": null,
      "outputs": [
        {
          "output_type": "execute_result",
          "data": {
            "text/plain": [
              "<matplotlib.axes._subplots.AxesSubplot at 0x7f66922fe790>"
            ]
          },
          "metadata": {},
          "execution_count": 301
        },
        {
          "output_type": "display_data",
          "data": {
            "image/png": "[encoded data removed]",
            "text/plain": [
              "<Figure size 432x288 with 1 Axes>"
            ]
          },
          "metadata": {
            "needs_background": "light"
          }
        }
      ]
    },
    {
      "cell_type": "code",
      "source": [
        "train_df['price'].quantile([0.005,.01,.05,.1,.5,.9,.95,.99,.995])"
      ],
      "metadata": {
        "colab": {
          "base_uri": "https://localhost:8080/"
        },
        "id": "svKDwKZIkTac",
        "outputId": "ada3bf13-5a26-4a5c-8c85-7479594e9a34"
      },
      "execution_count": null,
      "outputs": [
        {
          "output_type": "execute_result",
          "data": {
            "text/plain": [
              "0.005     1375.0\n",
              "0.010     1475.0\n",
              "0.050     1800.0\n",
              "0.100     2000.0\n",
              "0.500     3150.0\n",
              "0.900     5651.8\n",
              "0.950     6895.0\n",
              "0.990    13000.0\n",
              "0.995    15500.0\n",
              "Name: price, dtype: float64"
            ]
          },
          "metadata": {},
          "execution_count": 302
        }
      ]
    },
    {
      "cell_type": "code",
      "source": [
        "train_df['price_per_room'] = train_df.price / (train_df.bathrooms + train_df.bedrooms)\n",
        "test_df['price_per_room'] = test_df.price / (test_df.bathrooms + test_df.bedrooms)"
      ],
      "metadata": {
        "id": "NavkaPorlX6H"
      },
      "execution_count": null,
      "outputs": []
    },
    {
      "cell_type": "code",
      "source": [
        "features_for_model.extend(['price', 'price_per_room'])"
      ],
      "metadata": {
        "id": "lUjeDzTWG1Gy"
      },
      "execution_count": null,
      "outputs": []
    },
    {
      "cell_type": "markdown",
      "source": [
        "### 13. listing_id"
      ],
      "metadata": {
        "id": "EkKsnUyMldI4"
      }
    },
    {
      "cell_type": "code",
      "source": [
        "train_df = train_df.set_index('listing_id', drop=True)\n",
        "test_df = test_df.set_index('listing_id', drop=True)"
      ],
      "metadata": {
        "id": "noDuT0BolcBX"
      },
      "execution_count": null,
      "outputs": []
    },
    {
      "cell_type": "code",
      "source": [
        "corr_mat = train_df.corr()\n",
        "sns.heatmap(corr_mat, square=True, cmap='coolwarm')\n",
        "pass"
      ],
      "metadata": {
        "colab": {
          "base_uri": "https://localhost:8080/",
          "height": 336
        },
        "id": "9ABIVopLTmkv",
        "outputId": "fe43be6f-8c90-4b80-f5bc-f09aa33323a3"
      },
      "execution_count": null,
      "outputs": [
        {
          "output_type": "display_data",
          "data": {
            "image/png": "[encoded data removed]",
            "text/plain": [
              "<Figure size 432x288 with 2 Axes>"
            ]
          },
          "metadata": {
            "needs_background": "light"
          }
        }
      ]
    },
    {
      "cell_type": "code",
      "source": [
        "corr_mat.where(np.triu(abs(corr_mat) > 0.7, k=1)).stack().sort_values(ascending=False)"
      ],
      "metadata": {
        "colab": {
          "base_uri": "https://localhost:8080/"
        },
        "id": "AUK_CHSATrL9",
        "outputId": "f54fe432-d151-4082-ff6d-39275d545447"
      },
      "execution_count": null,
      "outputs": [
        {
          "output_type": "execute_result",
          "data": {
            "text/plain": [
              "price     price_per_room    0.981785\n",
              "weekday   day_off           0.741510\n",
              "latitude  longitude        -0.966807\n",
              "dtype: float64"
            ]
          },
          "metadata": {},
          "execution_count": 307
        }
      ]
    },
    {
      "cell_type": "markdown",
      "source": [
        "# Обучение модели"
      ],
      "metadata": {
        "id": "MsEUFkY2mHet"
      }
    },
    {
      "cell_type": "code",
      "source": [
        "features_for_model"
      ],
      "metadata": {
        "colab": {
          "base_uri": "https://localhost:8080/"
        },
        "id": "QZIeID2yHNgA",
        "outputId": "3c1e3d71-408e-4a65-c465-af2cfddea877"
      },
      "execution_count": null,
      "outputs": [
        {
          "output_type": "execute_result",
          "data": {
            "text/plain": [
              "['bathrooms',\n",
              " 'bedrooms',\n",
              " 'weekday',\n",
              " 'day_off',\n",
              " 'description_len',\n",
              " 'features_len',\n",
              " 'x',\n",
              " 'y',\n",
              " 'z',\n",
              " 'manager_score',\n",
              " 'photos_count',\n",
              " 'price',\n",
              " 'price_per_room']"
            ]
          },
          "metadata": {},
          "execution_count": 308
        }
      ]
    },
    {
      "cell_type": "code",
      "source": [
        "X = train_df[features_for_model]\n",
        "y = train_df['interest_level']"
      ],
      "metadata": {
        "id": "W-oVJ_jbHP73"
      },
      "execution_count": null,
      "outputs": []
    },
    {
      "cell_type": "code",
      "source": [
        "X.info()"
      ],
      "metadata": {
        "colab": {
          "base_uri": "https://localhost:8080/"
        },
        "id": "FcpXhEkFHWHP",
        "outputId": "7068862f-de5d-4698-c4c4-f35af0163615"
      },
      "execution_count": null,
      "outputs": [
        {
          "output_type": "stream",
          "name": "stdout",
          "text": [
            "<class 'pandas.core.frame.DataFrame'>\n",
            "Int64Index: 49352 entries, 7170325 to 6901023\n",
            "Data columns (total 13 columns):\n",
            " #   Column           Non-Null Count  Dtype  \n",
            "---  ------           --------------  -----  \n",
            " 0   bathrooms        49352 non-null  float64\n",
            " 1   bedrooms         49352 non-null  int64  \n",
            " 2   weekday          49352 non-null  int64  \n",
            " 3   day_off          49352 non-null  int64  \n",
            " 4   description_len  49352 non-null  int64  \n",
            " 5   features_len     49352 non-null  int64  \n",
            " 6   x                49352 non-null  float64\n",
            " 7   y                49352 non-null  float64\n",
            " 8   z                49352 non-null  float64\n",
            " 9   manager_score    49352 non-null  int64  \n",
            " 10  photos_count     49352 non-null  int64  \n",
            " 11  price            49352 non-null  int64  \n",
            " 12  price_per_room   49352 non-null  float64\n",
            "dtypes: float64(5), int64(8)\n",
            "memory usage: 5.3 MB\n"
          ]
        }
      ]
    },
    {
      "cell_type": "code",
      "source": [
        "X_train, X_test, y_train, y_test = train_test_split(X, y, test_size = 0.3, random_state = 42)"
      ],
      "metadata": {
        "id": "KdRCluiXcISl"
      },
      "execution_count": null,
      "outputs": []
    },
    {
      "cell_type": "code",
      "source": [
        "lg = lgb.LGBMClassifier(silent=False)\n",
        "parametrs= {\"n_estimators\":  range(10,200,5)}\n",
        "grid_search_cv = GridSearchCV(lg, n_jobs=-1, param_grid=parametrs, cv=5)\n",
        "grid_search_cv.fit(X_train,y_train)\n",
        "best_n_estimators = grid_search_cv.best_estimator_.n_estimators\n",
        "print(best_n_estimators)"
      ],
      "metadata": {
        "colab": {
          "base_uri": "https://localhost:8080/"
        },
        "id": "5lu1IASjIJMP",
        "outputId": "bf313583-ca6a-4880-c537-8c2e4a4a513e"
      },
      "execution_count": null,
      "outputs": [
        {
          "output_type": "stream",
          "name": "stdout",
          "text": [
            "170\n"
          ]
        }
      ]
    },
    {
      "cell_type": "code",
      "source": [
        "train_data = lgb.Dataset(X_train, label=y_train)\n",
        "validation_data = lgb.Dataset(X_test, label=y_test, reference=train_data)\n",
        "param = {'objective':'multiclass', 'num_class':3}\n",
        "num_round = best_n_estimators\n",
        "bst = lgb.train(param, train_data,num_round, valid_sets=[validation_data])\n",
        "y_test_predict_proba_lgbm = bst.predict(X_test)"
      ],
      "metadata": {
        "id": "gqisn4twNG38"
      },
      "execution_count": null,
      "outputs": []
    },
    {
      "cell_type": "code",
      "source": [
        "log_loss(y_test, y_test_predict_proba_lgbm)"
      ],
      "metadata": {
        "colab": {
          "base_uri": "https://localhost:8080/"
        },
        "id": "DY50i9HTQ8oJ",
        "outputId": "be4402cc-5f81-467c-f76a-bfaef8ce50f6"
      },
      "execution_count": null,
      "outputs": [
        {
          "output_type": "execute_result",
          "data": {
            "text/plain": [
              "0.5901137687186863"
            ]
          },
          "metadata": {},
          "execution_count": 314
        }
      ]
    },
    {
      "cell_type": "markdown",
      "source": [
        "Попробуем убрать неинформативные признаки:"
      ],
      "metadata": {
        "id": "qq7DlAoiRdKZ"
      }
    },
    {
      "cell_type": "code",
      "source": [
        "lgb.plot_importance(bst)"
      ],
      "metadata": {
        "colab": {
          "base_uri": "https://localhost:8080/",
          "height": 312
        },
        "id": "ua-FMni5RccK",
        "outputId": "5b5b6b7f-d879-47b5-b9d4-59e4586589ec"
      },
      "execution_count": null,
      "outputs": [
        {
          "output_type": "execute_result",
          "data": {
            "text/plain": [
              "<matplotlib.axes._subplots.AxesSubplot at 0x7f669221eb90>"
            ]
          },
          "metadata": {},
          "execution_count": 315
        },
        {
          "output_type": "display_data",
          "data": {
            "image/png": "[encoded data removed]",
            "text/plain": [
              "<Figure size 432x288 with 1 Axes>"
            ]
          },
          "metadata": {
            "needs_background": "light"
          }
        }
      ]
    },
    {
      "cell_type": "markdown",
      "source": [
        "Удалим один из признаков, которые сильно коррелировали между собой (day_off - weekday, price_per_room - price)"
      ],
      "metadata": {
        "id": "QSAIunpSVhPu"
      }
    },
    {
      "cell_type": "code",
      "source": [
        "X = X.drop(['day_off', 'price_per_room'], axis=1)"
      ],
      "metadata": {
        "id": "Pq3sKR3vRcfY"
      },
      "execution_count": null,
      "outputs": []
    },
    {
      "cell_type": "code",
      "source": [
        "X_train, X_test, y_train, y_test = train_test_split(X, y, test_size = 0.3, random_state = 42)\n",
        "\n",
        "lg = lgb.LGBMClassifier(silent=False)\n",
        "parametrs= {\"n_estimators\":  range(10,200,5)}\n",
        "grid_search_cv = GridSearchCV(lg, n_jobs=-1, param_grid=parametrs, cv=5)\n",
        "grid_search_cv.fit(X_train,y_train)\n",
        "best_n_estimators = grid_search_cv.best_estimator_.n_estimators\n",
        "print(best_n_estimators)\n",
        "\n",
        "train_data = lgb.Dataset(X_train, label=y_train)\n",
        "validation_data = lgb.Dataset(X_test, label=y_test, reference=train_data)\n",
        "param = {'objective':'multiclass', 'num_class':3}\n",
        "num_round = best_n_estimators\n",
        "bst2 = lgb.train(param, train_data,num_round, valid_sets=[validation_data])\n",
        "y_test_predict_proba_lgbm = bst2.predict(X_test)"
      ],
      "metadata": {
        "id": "8sBVPCn3SXwr"
      },
      "execution_count": null,
      "outputs": []
    },
    {
      "cell_type": "code",
      "source": [
        "log_loss(y_test, y_test_predict_proba_lgbm)"
      ],
      "metadata": {
        "colab": {
          "base_uri": "https://localhost:8080/"
        },
        "id": "YqmDo7xJSXw0",
        "outputId": "01433201-fa8b-4d9e-c003-11ace524c9e8"
      },
      "execution_count": null,
      "outputs": [
        {
          "output_type": "execute_result",
          "data": {
            "text/plain": [
              "0.5904979393355547"
            ]
          },
          "metadata": {},
          "execution_count": 318
        }
      ]
    },
    {
      "cell_type": "markdown",
      "source": [
        "# Предсказание на тестовых данных"
      ],
      "metadata": {
        "id": "JdMc6LZ2cqaR"
      }
    },
    {
      "cell_type": "code",
      "source": [
        "predict_proba_lgbm = bst.predict(test_df[features_for_model])"
      ],
      "metadata": {
        "id": "y5Ef4vK4aTe9"
      },
      "execution_count": null,
      "outputs": []
    },
    {
      "cell_type": "code",
      "source": [
        "result = pd.DataFrame(predict_proba_lgbm, columns=['high', 'low', 'medium'], index=test_df.index)\n",
        "result = result[['high', 'medium', 'low']]\n",
        "\n",
        "result.head()"
      ],
      "metadata": {
        "colab": {
          "base_uri": "https://localhost:8080/",
          "height": 238
        },
        "id": "QxShr9obbkW5",
        "outputId": "94da57dc-b06a-4af9-b3ad-cf18657af671"
      },
      "execution_count": null,
      "outputs": [
        {
          "output_type": "execute_result",
          "data": {
            "text/html": [
              "\n",
              "  <div id=\"df-215ffff8-bc1c-46f2-93c8-cc3a629290a4\">\n",
              "    <div class=\"colab-df-container\">\n",
              "      <div>\n",
              "<style scoped>\n",
              "    .dataframe tbody tr th:only-of-type {\n",
              "        vertical-align: middle;\n",
              "    }\n",
              "\n",
              "    .dataframe tbody tr th {\n",
              "        vertical-align: top;\n",
              "    }\n",
              "\n",
              "    .dataframe thead th {\n",
              "        text-align: right;\n",
              "    }\n",
              "</style>\n",
              "<table border=\"1\" class=\"dataframe\">\n",
              "  <thead>\n",
              "    <tr style=\"text-align: right;\">\n",
              "      <th></th>\n",
              "      <th>high</th>\n",
              "      <th>medium</th>\n",
              "      <th>low</th>\n",
              "    </tr>\n",
              "    <tr>\n",
              "      <th>listing_id</th>\n",
              "      <th></th>\n",
              "      <th></th>\n",
              "      <th></th>\n",
              "    </tr>\n",
              "  </thead>\n",
              "  <tbody>\n",
              "    <tr>\n",
              "      <th>7142618</th>\n",
              "      <td>0.097602</td>\n",
              "      <td>0.406631</td>\n",
              "      <td>0.495767</td>\n",
              "    </tr>\n",
              "    <tr>\n",
              "      <th>7210040</th>\n",
              "      <td>0.254445</td>\n",
              "      <td>0.248987</td>\n",
              "      <td>0.496568</td>\n",
              "    </tr>\n",
              "    <tr>\n",
              "      <th>7174566</th>\n",
              "      <td>0.019728</td>\n",
              "      <td>0.139932</td>\n",
              "      <td>0.840340</td>\n",
              "    </tr>\n",
              "    <tr>\n",
              "      <th>7191391</th>\n",
              "      <td>0.164089</td>\n",
              "      <td>0.528642</td>\n",
              "      <td>0.307269</td>\n",
              "    </tr>\n",
              "    <tr>\n",
              "      <th>7171695</th>\n",
              "      <td>0.020667</td>\n",
              "      <td>0.183641</td>\n",
              "      <td>0.795692</td>\n",
              "    </tr>\n",
              "  </tbody>\n",
              "</table>\n",
              "</div>\n",
              "      <button class=\"colab-df-convert\" onclick=\"convertToInteractive('df-215ffff8-bc1c-46f2-93c8-cc3a629290a4')\"\n",
              "              title=\"Convert this dataframe to an interactive table.\"\n",
              "              style=\"display:none;\">\n",
              "        \n",
              "  <svg xmlns=\"http://www.w3.org/2000/svg\" height=\"24px\"viewBox=\"0 0 24 24\"\n",
              "       width=\"24px\">\n",
              "    <path d=\"M0 0h24v24H0V0z\" fill=\"none\"/>\n",
              "    <path d=\"M18.56 5.44l.94 2.06.94-2.06 2.06-.94-2.06-.94-.94-2.06-.94 2.06-2.06.94zm-11 1L8.5 8.5l.94-2.06 2.06-.94-2.06-.94L8.5 2.5l-.94 2.06-2.06.94zm10 10l.94 2.06.94-2.06 2.06-.94-2.06-.94-.94-2.06-.94 2.06-2.06.94z\"/><path d=\"M17.41 7.96l-1.37-1.37c-.4-.4-.92-.59-1.43-.59-.52 0-1.04.2-1.43.59L10.3 9.45l-7.72 7.72c-.78.78-.78 2.05 0 2.83L4 21.41c.39.39.9.59 1.41.59.51 0 1.02-.2 1.41-.59l7.78-7.78 2.81-2.81c.8-.78.8-2.07 0-2.86zM5.41 20L4 18.59l7.72-7.72 1.47 1.35L5.41 20z\"/>\n",
              "  </svg>\n",
              "      </button>\n",
              "      \n",
              "  <style>\n",
              "    .colab-df-container {\n",
              "      display:flex;\n",
              "      flex-wrap:wrap;\n",
              "      gap: 12px;\n",
              "    }\n",
              "\n",
              "    .colab-df-convert {\n",
              "      background-color: #E8F0FE;\n",
              "      border: none;\n",
              "      border-radius: 50%;\n",
              "      cursor: pointer;\n",
              "      display: none;\n",
              "      fill: #1967D2;\n",
              "      height: 32px;\n",
              "      padding: 0 0 0 0;\n",
              "      width: 32px;\n",
              "    }\n",
              "\n",
              "    .colab-df-convert:hover {\n",
              "      background-color: #E2EBFA;\n",
              "      box-shadow: 0px 1px 2px rgba(60, 64, 67, 0.3), 0px 1px 3px 1px rgba(60, 64, 67, 0.15);\n",
              "      fill: #174EA6;\n",
              "    }\n",
              "\n",
              "    [theme=dark] .colab-df-convert {\n",
              "      background-color: #3B4455;\n",
              "      fill: #D2E3FC;\n",
              "    }\n",
              "\n",
              "    [theme=dark] .colab-df-convert:hover {\n",
              "      background-color: #434B5C;\n",
              "      box-shadow: 0px 1px 3px 1px rgba(0, 0, 0, 0.15);\n",
              "      filter: drop-shadow(0px 1px 2px rgba(0, 0, 0, 0.3));\n",
              "      fill: #FFFFFF;\n",
              "    }\n",
              "  </style>\n",
              "\n",
              "      <script>\n",
              "        const buttonEl =\n",
              "          document.querySelector('#df-215ffff8-bc1c-46f2-93c8-cc3a629290a4 button.colab-df-convert');\n",
              "        buttonEl.style.display =\n",
              "          google.colab.kernel.accessAllowed ? 'block' : 'none';\n",
              "\n",
              "        async function convertToInteractive(key) {\n",
              "          const element = document.querySelector('#df-215ffff8-bc1c-46f2-93c8-cc3a629290a4');\n",
              "          const dataTable =\n",
              "            await google.colab.kernel.invokeFunction('convertToInteractive',\n",
              "                                                     [key], {});\n",
              "          if (!dataTable) return;\n",
              "\n",
              "          const docLinkHtml = 'Like what you see? Visit the ' +\n",
              "            '<a target=\"_blank\" href=https://colab.research.google.com/notebooks/data_table.ipynb>data table notebook</a>'\n",
              "            + ' to learn more about interactive tables.';\n",
              "          element.innerHTML = '';\n",
              "          dataTable['output_type'] = 'display_data';\n",
              "          await google.colab.output.renderOutput(dataTable, element);\n",
              "          const docLink = document.createElement('div');\n",
              "          docLink.innerHTML = docLinkHtml;\n",
              "          element.appendChild(docLink);\n",
              "        }\n",
              "      </script>\n",
              "    </div>\n",
              "  </div>\n",
              "  "
            ],
            "text/plain": [
              "                high    medium       low\n",
              "listing_id                              \n",
              "7142618     0.097602  0.406631  0.495767\n",
              "7210040     0.254445  0.248987  0.496568\n",
              "7174566     0.019728  0.139932  0.840340\n",
              "7191391     0.164089  0.528642  0.307269\n",
              "7171695     0.020667  0.183641  0.795692"
            ]
          },
          "metadata": {},
          "execution_count": 320
        }
      ]
    },
    {
      "cell_type": "code",
      "source": [
        "result.to_csv('result.csv')"
      ],
      "metadata": {
        "id": "Btz8JJ-eca1v"
      },
      "execution_count": null,
      "outputs": []
    }
  ]
}